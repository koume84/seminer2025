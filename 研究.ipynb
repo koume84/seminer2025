{
  "cells": [
    {
      "cell_type": "markdown",
      "metadata": {
        "id": "view-in-github",
        "colab_type": "text"
      },
      "source": [
        "<a href=\"https://colab.research.google.com/github/koume84/seminer2025/blob/main/%E7%A0%94%E7%A9%B6.ipynb\" target=\"_parent\"><img src=\"https://colab.research.google.com/assets/colab-badge.svg\" alt=\"Open In Colab\"/></a>"
      ]
    },
    {
      "cell_type": "code",
      "execution_count": null,
      "metadata": {
        "colab": {
          "base_uri": "https://localhost:8080/"
        },
        "id": "oIexF5dNkDOK",
        "outputId": "9cc09910-08d1-42c7-8b73-d2e9a82e6e53"
      },
      "outputs": [
        {
          "name": "stdout",
          "output_type": "stream",
          "text": [
            "Mounted at /content/drive\n",
            "Collecting nilearn\n",
            "  Downloading nilearn-0.12.0-py3-none-any.whl.metadata (9.9 kB)\n",
            "Requirement already satisfied: joblib>=1.2.0 in /usr/local/lib/python3.11/dist-packages (from nilearn) (1.5.1)\n",
            "Requirement already satisfied: lxml in /usr/local/lib/python3.11/dist-packages (from nilearn) (5.4.0)\n",
            "Requirement already satisfied: nibabel>=5.2.0 in /usr/local/lib/python3.11/dist-packages (from nilearn) (5.3.2)\n",
            "Requirement already satisfied: numpy>=1.22.4 in /usr/local/lib/python3.11/dist-packages (from nilearn) (2.0.2)\n",
            "Requirement already satisfied: packaging in /usr/local/lib/python3.11/dist-packages (from nilearn) (24.2)\n",
            "Requirement already satisfied: pandas>=2.2.0 in /usr/local/lib/python3.11/dist-packages (from nilearn) (2.2.2)\n",
            "Requirement already satisfied: requests>=2.25.0 in /usr/local/lib/python3.11/dist-packages (from nilearn) (2.32.3)\n",
            "Requirement already satisfied: scikit-learn>=1.4.0 in /usr/local/lib/python3.11/dist-packages (from nilearn) (1.6.1)\n",
            "Requirement already satisfied: scipy>=1.8.0 in /usr/local/lib/python3.11/dist-packages (from nilearn) (1.15.3)\n",
            "Requirement already satisfied: importlib-resources>=5.12 in /usr/local/lib/python3.11/dist-packages (from nibabel>=5.2.0->nilearn) (6.5.2)\n",
            "Requirement already satisfied: typing-extensions>=4.6 in /usr/local/lib/python3.11/dist-packages (from nibabel>=5.2.0->nilearn) (4.14.0)\n",
            "Requirement already satisfied: python-dateutil>=2.8.2 in /usr/local/lib/python3.11/dist-packages (from pandas>=2.2.0->nilearn) (2.9.0.post0)\n",
            "Requirement already satisfied: pytz>=2020.1 in /usr/local/lib/python3.11/dist-packages (from pandas>=2.2.0->nilearn) (2025.2)\n",
            "Requirement already satisfied: tzdata>=2022.7 in /usr/local/lib/python3.11/dist-packages (from pandas>=2.2.0->nilearn) (2025.2)\n",
            "Requirement already satisfied: charset-normalizer<4,>=2 in /usr/local/lib/python3.11/dist-packages (from requests>=2.25.0->nilearn) (3.4.2)\n",
            "Requirement already satisfied: idna<4,>=2.5 in /usr/local/lib/python3.11/dist-packages (from requests>=2.25.0->nilearn) (3.10)\n",
            "Requirement already satisfied: urllib3<3,>=1.21.1 in /usr/local/lib/python3.11/dist-packages (from requests>=2.25.0->nilearn) (2.4.0)\n",
            "Requirement already satisfied: certifi>=2017.4.17 in /usr/local/lib/python3.11/dist-packages (from requests>=2.25.0->nilearn) (2025.6.15)\n",
            "Requirement already satisfied: threadpoolctl>=3.1.0 in /usr/local/lib/python3.11/dist-packages (from scikit-learn>=1.4.0->nilearn) (3.6.0)\n",
            "Requirement already satisfied: six>=1.5 in /usr/local/lib/python3.11/dist-packages (from python-dateutil>=2.8.2->pandas>=2.2.0->nilearn) (1.17.0)\n",
            "Downloading nilearn-0.12.0-py3-none-any.whl (10.6 MB)\n",
            "\u001b[2K   \u001b[90m━━━━━━━━━━━━━━━━━━━━━━━━━━━━━━━━━━━━━━━━\u001b[0m \u001b[32m10.6/10.6 MB\u001b[0m \u001b[31m101.2 MB/s\u001b[0m eta \u001b[36m0:00:00\u001b[0m\n",
            "\u001b[?25hInstalling collected packages: nilearn\n",
            "Successfully installed nilearn-0.12.0\n",
            "Ready to Start Analysis!\n"
          ]
        }
      ],
      "source": [
        "# GoogleドライブをColabにマウント（接続）する\n",
        "from google.colab import drive\n",
        "drive.mount('/content/drive')\n",
        "\n",
        "# 必要なライブラリをインストール\n",
        "!pip install nilearn\n",
        "\n",
        "# これで準備完了！\n",
        "print(\"Ready to Start Analysis!\")"
      ]
    },
    {
      "cell_type": "code",
      "execution_count": null,
      "metadata": {
        "colab": {
          "background_save": true,
          "base_uri": "https://localhost:8080/"
        },
        "id": "TmOXTE66nGdq",
        "outputId": "1117806b-3037-46fb-c7df-18968b9c30f2"
      },
      "outputs": [
        {
          "name": "stdout",
          "output_type": "stream",
          "text": [
            "--2025-07-08 07:35:06--  https://fsl.fmrib.ox.ac.uk/fsldownloads/fslinstaller.py\n",
            "Resolving fsl.fmrib.ox.ac.uk (fsl.fmrib.ox.ac.uk)... 129.67.248.66\n",
            "Connecting to fsl.fmrib.ox.ac.uk (fsl.fmrib.ox.ac.uk)|129.67.248.66|:443... connected.\n",
            "HTTP request sent, awaiting response... 200 OK\n",
            "Length: 74517 (73K) [application/octet-stream]\n",
            "Saving to: ‘fslinstaller.py’\n",
            "\n",
            "fslinstaller.py     100%[===================>]  72.77K   240KB/s    in 0.3s    \n",
            "\n",
            "2025-07-08 07:35:07 (240 KB/s) - ‘fslinstaller.py’ saved [74517/74517]\n",
            "\n",
            "\u001b[1m\u001b[4mFSL installer version:\u001b[0m 3.2.0\u001b[0m\n",
            "\u001b[37mPress CTRL+C at any time to cancel installation\u001b[0m\n",
            "\u001b[93m\u001b[1mRunning the installer script as root user is discouraged! You should run this script as a regular user - you will be asked for your administrator password if required.\u001b[0m\n",
            "\u001b[37mInstallation log file: /tmp/fslinstaller_gr6l5a5k.log\n",
            "\u001b[0m\n",
            "\u001b[1m\u001b[4mFSL installer version:\u001b[0m 3.16.8\u001b[0m\n",
            "\u001b[37mPress CTRL+C at any time to cancel installation\u001b[0m\n",
            "\u001b[93m\u001b[1mRunning the installer script as root user is discouraged! You should\n",
            "run this script as a regular user - you will be asked for your administrator\n",
            "password if required.\u001b[0m\n",
            "\u001b[37mInstallation log file: /tmp/fslinstaller_0d6iz_9r.log\n",
            "\u001b[0m\n",
            "\u001b[92mInstalling FSL implies agreement with the terms of the FSL license - if you\n",
            "do not agree with these terms, you can cancel the installation by pressing\n",
            "CTRL+C.\u001b[0m\u001b[92m You can view the license at\n",
            "\u001b[0m\u001b[92m\u001b[4mhttps://fsl.fmrib.ox.ac.uk/fsl/docs/#/license\u001b[0m\n",
            "\u001b[0m\n",
            "\u001b[37mDuring the installation process, please note that some system details will\n",
            "be automatically sent to the FSL development team. These details are extremely\n",
            "basic and cannot be used in any way to identify individual users. If you do not\n",
            "want any information to be sent, please cancel this installation by pressing\n",
            "CTRL+C, and re-run the installer with the --skip_registration option.\n",
            "\u001b[0m\n",
            "FSL 6.0.7.18 selected for installation\u001b[0m\n",
            "Downloading FSL environment specification from https://fsl.fmrib.ox.ac.uk/fsldow\n",
            "nloads/fslconda/releases/fsl-6.0.7.18_linux-64.yml...\u001b[0m\n",
            "Downloading FSL environment specification from\n",
            "https://fsl.fmrib.ox.ac.uk/fsldownloads/fslconda/releases/fsl-6.0.7.18_osl-\n",
            "dynamics_linux-64.yml...\u001b[0m\n",
            "Downloading FSL environment specification from https://fsl.fmrib.ox.ac.uk/fsldow\n",
            "nloads/fslconda/releases/fsl-6.0.7.18_truenet_linux-64.yml...\u001b[0m\n",
            "\u001b[1m\n",
            "Installing FSL in /content/fsl\n",
            "\u001b[0m\n",
            "Downloading miniconda from https://anaconda.org/conda-\n",
            "forge/micromamba/2.1.0/download/linux-64/micromamba-2.1.0-0.tar.bz2...\u001b[0m\n",
            "\u001b[0m\n",
            "Installing conda at /content/fsl...\u001b[0m\n",
            "\u001b[0m\n",
            "Creating FSL wrapper management scripts...\u001b[0m\n",
            "\u001b[0m\n",
            "Installing FSL into /content/fsl...\u001b[0m\n",
            "\u001b[0m\n",
            "Traceback (most recent call last):\n",
            "  File \"/tmp/new_fslinstalleres1alft0\", line 3373, in install_fsl\n",
            "    retry_on_error(ctx.run, ctx.args.num_retries, Process.monitor_progress,\n",
            "  File \"/tmp/new_fslinstalleres1alft0\", line 1032, in retry_on_error\n",
            "    return func(*args, **kwargs)\n",
            "           ^^^^^^^^^^^^^^^^^^^^^\n",
            "  File \"/tmp/new_fslinstalleres1alft0\", line 2428, in run\n",
            "    return process_func(admin=self.need_admin,\n",
            "           ^^^^^^^^^^^^^^^^^^^^^^^^^^^^^^^^^^^\n",
            "  File \"/tmp/new_fslinstalleres1alft0\", line 1805, in monitor_progress\n",
            "    time.sleep(timeout)\n",
            "KeyboardInterrupt\n",
            "\n",
            "During handling of the above exception, another exception occurred:\n",
            "\n",
            "Traceback (most recent call last):\n",
            "  File \"/tmp/new_fslinstalleres1alft0\", line 4292, in <module>\n",
            "    sys.exit(main())\n",
            "             ^^^^^^\n",
            "  File \"/tmp/new_fslinstalleres1alft0\", line 4274, in main\n",
            "    func(*funcargs, prefix=prefix)\n",
            "  File \"/tmp/new_fslinstalleres1alft0\", line 3355, in install_fsl\n",
            "    with LogRecordingHandler(err_patterns) as hd:\n",
            "  File \"/tmp/new_fslinstalleres1alft0\", line 1074, in __exit__\n",
            "    def __exit__(self, *args):\n",
            "\n",
            "KeyboardInterrupt\n",
            "^C\n"
          ]
        }
      ],
      "source": [
        "# FSLのインストーラーをダウンロード\n",
        "!wget https://fsl.fmrib.ox.ac.uk/fsldownloads/fslinstaller.py\n",
        "\n",
        "# FSLをインストール\n",
        "!python fslinstaller.py -d /content/fsl"
      ]
    },
    {
      "cell_type": "code",
      "execution_count": null,
      "metadata": {
        "colab": {
          "background_save": true,
          "base_uri": "https://localhost:8080/"
        },
        "id": "zoBP1JEx9RmP",
        "outputId": "687946d2-c0f3-41ef-9a48-b48700e18d64"
      },
      "outputs": [
        {
          "name": "stdout",
          "output_type": "stream",
          "text": [
            "/bin/bash: line 1: fsl_convert_4dfp: command not found\n",
            "\n",
            "✅ 変換が完了しました。\n",
            "ls: cannot access '/content/RS003_converted.nii.gz': No such file or directory\n"
          ]
        }
      ],
      "source": [
        "# 🚨 環境設定とコマンド実行は、必ずこの1つのセルでまとめて実行してください\n",
        "\n",
        "import os\n",
        "\n",
        "# FSLの環境変数を設定\n",
        "os.environ['FSLDIR'] = '/content/fsl'\n",
        "os.environ['PATH'] = os.environ['FSLDIR'] + '/bin:' + os.environ['PATH']\n",
        "\n",
        "# 変換するファイル名を指定\n",
        "input_4dfp_base = '/content/drive/MyDrive/ds005003/fda_language/Perceptron_rs1/RS_003_MR_20140103_resttask_Perceptron_20110906_V3'\n",
        "output_nifti = '/content/RS003_converted.nii.gz'\n",
        "\n",
        "# 変換を実行\n",
        "!fsl_convert_4dfp {input_4dfp_base} {output_nifti}\n",
        "\n",
        "print(\"\\n✅ 変換が完了しました。\")\n",
        "!ls -lh {output_nifti}"
      ]
    },
    {
      "cell_type": "code",
      "execution_count": null,
      "metadata": {
        "id": "KLP-GQZ09SR1"
      },
      "outputs": [],
      "source": [
        "import nilearn\n",
        "from nilearn import plotting, image\n",
        "\n",
        "# 変換したNIfTIファイルのパス\n",
        "converted_nifti_file = '/content/RS003_converted.nii.gz'\n",
        "\n",
        "# データをプロット\n",
        "plotting.plot_img(converted_nifti_file,\n",
        "                  display_mode='ortho',\n",
        "                  colorbar=True,\n",
        "                  title='Converted fMRI data',\n",
        "                  annotate=True)\n",
        "plotting.show()"
      ]
    }
  ],
  "metadata": {
    "colab": {
      "provenance": [],
      "authorship_tag": "ABX9TyOeIBdTym/D245tWQmXz1C7",
      "include_colab_link": true
    },
    "kernelspec": {
      "display_name": "Python 3",
      "name": "python3"
    },
    "language_info": {
      "name": "python"
    }
  },
  "nbformat": 4,
  "nbformat_minor": 0
}